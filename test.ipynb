{
 "cells": [
  {
   "cell_type": "code",
   "execution_count": 13,
   "metadata": {},
   "outputs": [
    {
     "data": {
      "text/plain": [
       "{'text': 'Men bu kompaniyaning ovozli yordamchisiman, sizning har qanday savollarizga javob berishga va sizga yordam berish uchun yaratilganman. ',\n",
       " 'info': ['uz',\n",
       "  1,\n",
       "  8.8565625,\n",
       "  8.8565625,\n",
       "  None,\n",
       "  [5,\n",
       "   5,\n",
       "   1,\n",
       "   1,\n",
       "   1,\n",
       "   0,\n",
       "   -1.0,\n",
       "   0.6,\n",
       "   2.4,\n",
       "   True,\n",
       "   0.5,\n",
       "   [0.0, 0.2, 0.4, 0.6, 0.8, 1.0],\n",
       "   None,\n",
       "   None,\n",
       "   True,\n",
       "   [-1],\n",
       "   False,\n",
       "   1.0,\n",
       "   False,\n",
       "   '\"\\'“¿([{-',\n",
       "   '\"\\'.。,，!！?？:：”)]}、',\n",
       "   None,\n",
       "   '0',\n",
       "   None,\n",
       "   None],\n",
       "  None]}"
      ]
     },
     "execution_count": 13,
     "metadata": {},
     "output_type": "execute_result"
    }
   ],
   "source": []
  },
  {
   "cell_type": "code",
   "execution_count": null,
   "metadata": {},
   "outputs": [],
   "source": []
  }
 ],
 "metadata": {
  "kernelspec": {
   "display_name": ".venv",
   "language": "python",
   "name": "python3"
  },
  "language_info": {
   "codemirror_mode": {
    "name": "ipython",
    "version": 3
   },
   "file_extension": ".py",
   "mimetype": "text/x-python",
   "name": "python",
   "nbconvert_exporter": "python",
   "pygments_lexer": "ipython3",
   "version": "3.11.6"
  }
 },
 "nbformat": 4,
 "nbformat_minor": 2
}
